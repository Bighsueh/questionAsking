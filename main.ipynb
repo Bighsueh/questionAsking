{
 "cells": [
  {
   "cell_type": "code",
   "execution_count": 1,
   "metadata": {},
   "outputs": [],
   "source": [
    "from Chatbot import Chatbot\n",
    "from Model import Model\n",
    "\n",
    "import os"
   ]
  },
  {
   "cell_type": "code",
   "execution_count": 2,
   "metadata": {},
   "outputs": [
    {
     "data": {
      "text/plain": [
       "'/Users/hsueh/Code/Python/questionAsking/prompt.json'"
      ]
     },
     "execution_count": 2,
     "metadata": {},
     "output_type": "execute_result"
    }
   ],
   "source": [
    "f\"{os.getcwd()}/prompt.json\""
   ]
  },
  {
   "cell_type": "code",
   "execution_count": 3,
   "metadata": {},
   "outputs": [],
   "source": [
    "model = Model(model_name='gpt-35-turbo',\n",
    "              model_endpoint='http://ml.hsueh.tw/callapi/')\n",
    "chatbot = Chatbot(model=model,\n",
    "                  prompt_file=f\"{os.getcwd()}/prompt.json\")\n",
    "\n"
   ]
  },
  {
   "cell_type": "code",
   "execution_count": 4,
   "metadata": {},
   "outputs": [],
   "source": [
    "chatbot.input_message(user_query='鐵筷會生鏽嗎')"
   ]
  },
  {
   "cell_type": "code",
   "execution_count": 5,
   "metadata": {},
   "outputs": [
    {
     "name": "stdout",
     "output_type": "stream",
     "text": [
      "使用者輸入內容：鐵筷會生鏽嗎, 系統回覆：yes\n",
      "使用者輸入內容：鐵筷會生鏽嗎, 系統回覆：回答：這個句子缺少主詞，因此我的回答是「no」。缺少主詞的句子通常是不完整的，因為主詞是動作或狀態的執行者或承受者。如果您想讓這個句子變得完整，您可以加上一個主詞，例如「金屬餐具會生鏽嗎？」。\n",
      "使用者輸入內容：鐵筷會生鏽嗎, 系統回覆：Yes, the sentence contains a verb (\"會生鏽\" - will rust).\n",
      "使用者輸入內容：鐵筷會生鏽嗎, 系統回覆：yes，鐵筷會因為接觸到水分而生鏽。\n"
     ]
    },
    {
     "data": {
      "text/plain": [
       "False"
      ]
     },
     "execution_count": 5,
     "metadata": {},
     "output_type": "execute_result"
    }
   ],
   "source": [
    "chatbot.check_complete_question()"
   ]
  },
  {
   "cell_type": "code",
   "execution_count": 6,
   "metadata": {},
   "outputs": [
    {
     "data": {
      "text/plain": [
       "'yes回答：這個句子缺少主詞，因此我的回答是「no」。缺少主詞的句子通常是不完整的，因為主詞是動作或狀態的執行者或承受者。如果您想讓這個句子變得完整，您可以加上一個主詞，例如「金屬餐具會生鏽嗎？」。Yes, the sentence contains a verb (\"會生鏽\" - will rust).yes，鐵筷會因為接觸到水分而生鏽。'"
      ]
     },
     "execution_count": 6,
     "metadata": {},
     "output_type": "execute_result"
    }
   ],
   "source": [
    "chatbot.response_log"
   ]
  },
  {
   "cell_type": "code",
   "execution_count": null,
   "metadata": {},
   "outputs": [],
   "source": []
  }
 ],
 "metadata": {
  "kernelspec": {
   "display_name": "base",
   "language": "python",
   "name": "python3"
  },
  "language_info": {
   "codemirror_mode": {
    "name": "ipython",
    "version": 3
   },
   "file_extension": ".py",
   "mimetype": "text/x-python",
   "name": "python",
   "nbconvert_exporter": "python",
   "pygments_lexer": "ipython3",
   "version": "3.11.3"
  }
 },
 "nbformat": 4,
 "nbformat_minor": 2
}
